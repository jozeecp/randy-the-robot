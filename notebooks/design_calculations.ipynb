{
 "cells": [
  {
   "cell_type": "markdown",
   "metadata": {},
   "source": [
    "# Design Calculations\n",
    "\n",
    "Starting this to capture some calculations I need to make to design the robot"
   ]
  },
  {
   "cell_type": "code",
   "execution_count": 16,
   "metadata": {},
   "outputs": [
    {
     "name": "stdout",
     "output_type": "stream",
     "text": [
      "Max torque with 5 kg payload: 38.04 Nm\n"
     ]
    }
   ],
   "source": [
    "# How much do we need to lift?\n",
    "# What's a reasonable expectation for the amount of weight we can lift?\n",
    "\n",
    "# assuming the weight of the arm itself is evenly distributed\n",
    "arm_weight_lbs = 6\n",
    "arm_weight_kg = arm_weight_lbs * 0.453592\n",
    "\n",
    "# let's look at the limit of the arm being fully extended\n",
    "fully_extended_arm_in = 24\n",
    "fully_extended_arm_m = fully_extended_arm_in * 0.0254\n",
    "\n",
    "def torque_with_arm_weight(payload_mass, length=fully_extended_arm_m, arm_mass=arm_weight_kg):\n",
    "    # we need to account for the weight of the arm itself\n",
    "    # so we need to treat the arm as a lever with mass and with a fulcrum at the shoulder\n",
    "    # and the payload as a weight at the end of the lever\n",
    "    gravity = 9.81  # Earth's gravity in m/s^2\n",
    "\n",
    "    # Torque due to the arm's weight\n",
    "    # Arm's weight acts at the midpoint of the arm\n",
    "    arm_weight = arm_mass * gravity\n",
    "    arm_torque = arm_weight * (length / 2)\n",
    "\n",
    "    # Torque due to the payload's weight\n",
    "    # Payload's weight acts at the end of the arm\n",
    "    payload_weight = payload_mass * gravity\n",
    "    payload_torque = payload_weight * length\n",
    "\n",
    "    # Total torque is the sum of both torques\n",
    "    total_torque = arm_torque + payload_torque\n",
    "\n",
    "    return total_torque\n",
    "\n",
    "payload_mass = 5  # kg\n",
    "max_torque = torque_with_arm_weight(payload_mass)\n",
    "\n",
    "print(f\"Max torque with {payload_mass} kg payload: {max_torque:.2f} Nm\")"
   ]
  },
  {
   "cell_type": "code",
   "execution_count": 29,
   "metadata": {},
   "outputs": [
    {
     "name": "stdout",
     "output_type": "stream",
     "text": [
      "Gear ratio: 22.0\n",
      "Motor holding torque: 1.9 Nm\n",
      "Output holding torque: 41.8 Nm @ $0.005 per hour\n"
     ]
    }
   ],
   "source": [
    "input_gear = 10\n",
    "output_gear = 220\n",
    "motor_holding_torque = 1.9\n",
    "rated_current = 2.8\n",
    "\n",
    "gear_ratio = output_gear / input_gear\n",
    "output_holding_torque_2AM = motor_holding_torque * gear_ratio\n",
    "\n",
    "def cost_of_electricity_per_hour(amps, voltage=12, cost_per_kwh=0.15):\n",
    "    return (amps * voltage) / 1000 * cost_per_kwh\n",
    "\n",
    "def coeph(amps, voltage=12, cost_per_kwh=0.15):\n",
    "    return cost_of_electricity_per_hour(amps, voltage, cost_per_kwh)\n",
    "\n",
    "def coep_month(amps, voltage=12, cost_per_kwh=0.15):\n",
    "    return coeph(amps, voltage, cost_per_kwh) * 8 * 30\n",
    "\n",
    "print(f\"Gear ratio: {gear_ratio}\")\n",
    "print(f\"Motor holding torque: {motor_holding_torque} Nm\")\n",
    "print(f\"Output holding torque: {output_holding_torque_2AM} Nm @ ${coeph(rated_current):.3f} per hour\")"
   ]
  },
  {
   "cell_type": "code",
   "execution_count": 32,
   "metadata": {},
   "outputs": [
    {
     "name": "stdout",
     "output_type": "stream",
     "text": [
      "Output RPM: 4.55 / 27.27 deg/s\n"
     ]
    }
   ],
   "source": [
    "input_rpm = 100\n",
    "output_rpm = input_rpm / gear_ratio\n",
    "\n",
    "def rpm_to_degrees_per_second(rpm):\n",
    "    return rpm * 360 / 60\n",
    "\n",
    "print(f\"Output RPM: {output_rpm:.2f} / {rpm_to_degrees_per_second(output_rpm):.2f} deg/s\")"
   ]
  },
  {
   "cell_type": "code",
   "execution_count": 59,
   "metadata": {},
   "outputs": [
    {
     "name": "stdout",
     "output_type": "stream",
     "text": [
      "Gear ratio: 22.0\n",
      "Gear ratio: 0.9411764705882353\n"
     ]
    }
   ],
   "source": [
    "# Can we calculate alternate gear ratios? Ie., instead of 2 gears (10:220), what if we had 3 gears (10:100:110)?\n",
    "def calculate_gear_ratio(gears):\n",
    "    # print(f\"Gear ratio: {gears}\")\n",
    "    if len(gears) < 2:\n",
    "        raise ValueError(\"At least two gears are required for a gear ratio calculation.\")\n",
    "\n",
    "    overall_ratio = 1.0\n",
    "\n",
    "    for i in range(len(gears) - 1):\n",
    "        driving_gear = gears[i]\n",
    "        driven_gear = gears[i + 1]\n",
    "\n",
    "        if driving_gear == 0:\n",
    "            raise ValueError(\"A gear cannot have zero teeth.\")\n",
    "\n",
    "        ratio = driven_gear / driving_gear\n",
    "        overall_ratio *= ratio\n",
    "        # print(f\"Gear {i + 1} ratio: {ratio} - Overall ratio: {overall_ratio}\")\n",
    "\n",
    "    return overall_ratio\n",
    "\n",
    "print(f\"Gear ratio: {calculate_gear_ratio([10, 220])}\")\n",
    "print(f\"Gear ratio: {calculate_gear_ratio([10, 32])}\")"
   ]
  },
  {
   "cell_type": "code",
   "execution_count": 57,
   "metadata": {},
   "outputs": [
    {
     "name": "stdout",
     "output_type": "stream",
     "text": [
      "22.0\n"
     ]
    }
   ],
   "source": [
    "print(3.2 * 6.875)"
   ]
  },
  {
   "cell_type": "code",
   "execution_count": null,
   "metadata": {},
   "outputs": [],
   "source": []
  }
 ],
 "metadata": {
  "kernelspec": {
   "display_name": ".venv",
   "language": "python",
   "name": "python3"
  },
  "language_info": {
   "codemirror_mode": {
    "name": "ipython",
    "version": 3
   },
   "file_extension": ".py",
   "mimetype": "text/x-python",
   "name": "python",
   "nbconvert_exporter": "python",
   "pygments_lexer": "ipython3",
   "version": "3.11.6"
  },
  "orig_nbformat": 4
 },
 "nbformat": 4,
 "nbformat_minor": 2
}
