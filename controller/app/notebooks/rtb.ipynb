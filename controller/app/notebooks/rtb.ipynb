{
 "cells": [
  {
   "cell_type": "code",
   "execution_count": null,
   "metadata": {},
   "outputs": [],
   "source": [
    "import os\n",
    "import roboticstoolbox as rtb\n",
    "import spatialmath as sm\n",
    "from math import pi, radians\n",
    "\n",
    "# Load the robot from a URDF file\n",
    "robot = rtb.DHRobot(\n",
    "    links=[\n",
    "        rtb.RevoluteDH(alpha=pi/2),  # base\n",
    "        rtb.RevoluteDH(a=0.381, offset=pi/2),  # shoulder\n",
    "        rtb.RevoluteDH(alpha=pi/2, offset=pi/2),  # elbow\n",
    "        rtb.RevoluteDH(d=0.254, alpha=pi/2),  # wrist0\n",
    "        rtb.RevoluteDH(alpha=-pi/2),  # wrist1 a=0.0635\n",
    "        rtb.RevoluteDH(d=0.0254 + 0.0635), # wrist2\n",
    "    ], \n",
    "    name=\"DUM-Arm\",\n",
    "    # gravity=[0, 0, -9.81],\n",
    "    base=sm.SE3(0.0, 0.0, 0.1016),\n",
    "    # qr=[0, 0, 0, 0, 0, 0],\n",
    ")\n",
    "\n",
    "robot.links[0].qlim = [-pi, pi]\n",
    "robot.links[1].qlim = [radians(15), pi]\n",
    "\n",
    "# print(f\"robot: {robot}\")\n",
    "robot.plot(robot.q, backend='pyplot', )  # or backend='swift' for a 3D interactive view\n"
   ]
  },
  {
   "cell_type": "code",
   "execution_count": null,
   "metadata": {},
   "outputs": [],
   "source": [
    "# from matplotlib import pyplot\n",
    "\n",
    "# Define the target position\n",
    "# target_position = sm.SE3(0.1, 0.1, 0.45)\n",
    "\n",
    "# Define the target orientation using roll-pitch-yaw angles (in radians)\n",
    "roll = 0    # rotation about the x-axis\n",
    "pitch = pi   # rotation about the y-axis\n",
    "yaw = 0  # rotation about the z-axis (90 degrees)\n",
    "\n",
    "# Define the target position\n",
    "x = 0.2\n",
    "y = 0.2\n",
    "z = 0.2\n",
    "\n",
    "# Define the target position and orientation using roll-pitch-yaw angles (in radians)\n",
    "target_pose = sm.SE3.RPY(roll, pitch, yaw, unit='rad') * sm.SE3.Tx(x) * sm.SE3.Ty(y) * sm.SE3.Tz(z)\n",
    "\n",
    "# Perform inverse kinematics to find the joint angles that achieve this pose\n",
    "q0 = [0, 0, 0, 0, 0, 0]\n",
    "q = robot.ikine_LM(target_pose, q0=q0)\n",
    "print(f\"q: {q}\")\n",
    "qt = rtb.jtraj(q0, q.q, 50)\n",
    "print(f\"qt: {qt}\")\n",
    "\n",
    "# Plot the robot at the resulting joint angles\n",
    "\n",
    "plt = robot.plot(qt.q, backend='pyplot')\n",
    "ax = plt.ax\n",
    "\n",
    "ax.set_box_aspect((1, 1, 1))  # x, y and z scaling ratios for axes\n",
    "ax.set_xlim([-0.5, 0.5])\n",
    "ax.set_ylim([-0.5, 0.5])\n",
    "# ax.set_zlim([0, 0.5])\n",
    "\n",
    "\n"
   ]
  },
  {
   "cell_type": "code",
   "execution_count": 249,
   "metadata": {},
   "outputs": [
    {
     "name": "stdout",
     "output_type": "stream",
     "text": [
      "a=1 b=2 c=3.0\n",
      "0\n",
      "{'a': 1, 'b': 2, 'c': 3.0}\n"
     ]
    }
   ],
   "source": [
    "from pydantic import BaseModel\n",
    "\n",
    "class TestModel(BaseModel):\n",
    "    __hidden_custom__: int = 0\n",
    "    a: int\n",
    "    b: int = 10\n",
    "    c: float = 1.0\n",
    "\n",
    "test_obj = TestModel(a=1, b=2, c=3.0)\n",
    "print(test_obj)\n",
    "print(test_obj.__hidden_custom__)\n",
    "print(test_obj.model_dump())"
   ]
  },
  {
   "cell_type": "code",
   "execution_count": null,
   "metadata": {},
   "outputs": [],
   "source": []
  },
  {
   "cell_type": "code",
   "execution_count": null,
   "metadata": {},
   "outputs": [],
   "source": []
  }
 ],
 "metadata": {
  "kernelspec": {
   "display_name": ".venv",
   "language": "python",
   "name": "python3"
  },
  "language_info": {
   "codemirror_mode": {
    "name": "ipython",
    "version": 3
   },
   "file_extension": ".py",
   "mimetype": "text/x-python",
   "name": "python",
   "nbconvert_exporter": "python",
   "pygments_lexer": "ipython3",
   "version": "3.11.6"
  },
  "orig_nbformat": 4
 },
 "nbformat": 4,
 "nbformat_minor": 2
}
